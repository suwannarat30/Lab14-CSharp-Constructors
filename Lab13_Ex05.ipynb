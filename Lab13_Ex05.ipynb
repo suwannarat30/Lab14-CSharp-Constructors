{
 "cells": [
  {
   "cell_type": "markdown",
   "metadata": {},
   "source": [
    "# Lab 13 Exercise 5\n",
    "\n"
   ]
  },
  {
   "cell_type": "markdown",
   "metadata": {},
   "source": [
    "## Constructors"
   ]
  },
  {
   "cell_type": "markdown",
   "metadata": {},
   "source": [
    "1.สร้าง console application project\n",
    "\n",
    "```cmd\n",
    "dotnet new console --name Lab13_Ex05\n",
    "```"
   ]
  },
  {
   "cell_type": "markdown",
   "metadata": {},
   "source": [
    "2.เปลี่ยน code ให้เป็นดังต่อไปนี้\n",
    "\n",
    "```csharp\n",
    "var circle = new Circle();\n",
    "var rectangle = new Rectangle();\n",
    "var triangle = new Triangle();\n",
    "\n",
    "class Shape\n",
    "{\n",
    "    private int? NumOfSide;\n",
    "    private Shape()\n",
    "    {\n",
    "    }\n",
    "    public Shape(int NumOfSide) : this()\n",
    "    {\n",
    "       this.NumOfSide = NumOfSide;\n",
    "        System.Console.WriteLine($\"This is some shape with {NumOfSide} sides\" );\n",
    "    }\n",
    "}\n",
    "class Circle :Shape\n",
    "{\n",
    "    public Circle():base(0)\n",
    "    {\n",
    "        System.Console.WriteLine(\"This is a circle\");\n",
    "    }\n",
    "}\n",
    "class Rectangle :Shape\n",
    "{\n",
    "    public Rectangle(): base(4)\n",
    "    {\n",
    "        System.Console.WriteLine(\"This is a rectangle\");\n",
    "    }\n",
    "}\n",
    "class Triangle :Shape\n",
    "{\n",
    "   public Triangle() : base( ) // Hint: add number of size as parameters\n",
    "    {\n",
    "        System.Console.WriteLine(\"This is a triangle\");\n",
    "    }\n",
    "}\n",
    "```"
   ]
  },
  {
   "cell_type": "markdown",
   "metadata": {},
   "source": [
    "3.Build project โดยการใช้คำสั่ง\n",
    "\n",
    "```cmd\n",
    "dotnet build  Lab13_Ex05\n",
    "```\n",
    "\n",
    "ถ้ามีที่ผิดพลาดในโปรแกรม ให้แก้ไขให้ถูกต้อง"
   ]
  },
  {
   "cell_type": "markdown",
   "metadata": {},
   "source": [
    "4.บันทึกผลที่ได้จากการรันคำสั่งในข้อ 3"
   ]
  },
  {
   "cell_type": "markdown",
   "metadata": {},
   "source": [
    " Lab13_Ex05 failed with 1 error(s) (0.2s)\n",
    "    D:\\Lab14-CSharp-Constructors\\Lab13_Ex05\\Program.cs(34,24): error CS0122: 'Shape.Shape()' is inaccessible due to its protection level\n",
    "\n",
    "Build failed with 1 error(s) in 0.8s"
   ]
  },
  {
   "cell_type": "markdown",
   "metadata": {},
   "source": [
    "5.Run project โดยการใช้คำสั่ง\n",
    "\n",
    "```cmd\n",
    "dotnet run --project Lab13_Ex05\n",
    "```"
   ]
  },
  {
   "cell_type": "markdown",
   "metadata": {},
   "source": [
    "6.บันทึกผลที่ได้จากการรันคำสั่งในข้อ 5"
   ]
  },
  {
   "cell_type": "markdown",
   "metadata": {},
   "source": [
    "This is some shape with 0 sides\n",
    "\n",
    "This is a circle\n",
    "\n",
    "This is some shape with 4 sides\n",
    "\n",
    "This is a rectangle\n",
    "\n",
    "This is some shape with 3 sides\n",
    "\n",
    "This is a triangle"
   ]
  },
  {
   "cell_type": "markdown",
   "metadata": {},
   "source": [
    "7.อธิบายสิ่งที่พบในการทดลอง"
   ]
  },
  {
   "cell_type": "markdown",
   "metadata": {},
   "source": [
    "private Shape() ทำให้คลาสลูกเรียกใช้ไม่ได้ , Triangle() ไม่ส่งค่าพารามิเตอร์ไปให้ Shape"
   ]
  }
 ],
 "metadata": {
  "kernelspec": {
   "display_name": ".NET (C#)",
   "language": "C#",
   "name": ".net-csharp"
  },
  "polyglot_notebook": {
   "kernelInfo": {
    "defaultKernelName": "csharp",
    "items": [
     {
      "aliases": [],
      "languageName": "csharp",
      "name": "csharp"
     }
    ]
   }
  }
 },
 "nbformat": 4,
 "nbformat_minor": 2
}
