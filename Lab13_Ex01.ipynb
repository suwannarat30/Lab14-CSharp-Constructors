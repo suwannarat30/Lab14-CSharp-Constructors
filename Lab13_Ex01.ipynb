{
 "cells": [
  {
   "cell_type": "markdown",
   "metadata": {},
   "source": [
    "# Lab 13 Exercise 1\n",
    "\n"
   ]
  },
  {
   "cell_type": "markdown",
   "metadata": {},
   "source": [
    "## Constructors"
   ]
  },
  {
   "cell_type": "markdown",
   "metadata": {},
   "source": [
    "Constructor เป็นเมธอดพิเศษในคลาสที่ถูกเรียกใช้โดยอัตโนมัติเมื่อสร้างอ็อบเจ็กต์ใหม่ของคลาสนั้นๆ หน้าที่หลักของ constructor คือการเริ่มต้นสถานะของอ็อบเจ็กต์ เช่น กำหนดค่าเริ่มต้นให้กับตัวแปรสมาชิก (member variables)"
   ]
  },
  {
   "cell_type": "markdown",
   "metadata": {},
   "source": [
    "1.สร้าง console application project\n",
    "\n",
    "```cmd\n",
    "dotnet new console --name Lab13_Ex01\n",
    "```"
   ]
  },
  {
   "cell_type": "markdown",
   "metadata": {},
   "source": [
    "2.เปลี่ยน code ให้เป็นดังต่อไปนี้\n",
    "\n",
    "```csharp\n",
    "var shape = new Shape();\n",
    "var circle = new Circle();\n",
    "var rectangle = new Rectangle();\n",
    "var triangle = new Triangle();\n",
    "\n",
    "class Shape\n",
    "{\n",
    "    public Shape()\n",
    "    {\n",
    "        System.Console.WriteLine(\"This is some shape\");\n",
    "    }\n",
    "}\n",
    "class Circle\n",
    "{\n",
    "    public Circle()\n",
    "    {\n",
    "        System.Console.WriteLine(\"This is a circle\");\n",
    "    }\n",
    "}\n",
    "class Rectangle\n",
    "{\n",
    "    public Rectangle()\n",
    "    {\n",
    "        System.Console.WriteLine(\"This is a rectangle\");\n",
    "    }\n",
    "}\n",
    "class Triangle\n",
    "{\n",
    "   public Triangle()\n",
    "    {\n",
    "        System.Console.WriteLine(\"This is a triangle\");\n",
    "    }\n",
    "}\n",
    "```"
   ]
  },
  {
   "cell_type": "markdown",
   "metadata": {},
   "source": [
    "3.Build project โดยการใช้คำสั่ง\n",
    "\n",
    "```cmd\n",
    "dotnet build  Lab13_Ex01\n",
    "```\n",
    "\n",
    "ถ้ามีที่ผิดพลาดในโปรแกรม ให้แก้ไขให้ถูกต้อง"
   ]
  },
  {
   "cell_type": "markdown",
   "metadata": {},
   "source": [
    "4.บันทึกผลที่ได้จากการรันคำสั่งในข้อ 3"
   ]
  },
  {
   "cell_type": "markdown",
   "metadata": {},
   "source": [
    "5.Run project โดยการใช้คำสั่ง\n",
    "\n",
    "```cmd\n",
    "dotnet run --project Lab13_Ex01\n",
    "```"
   ]
  },
  {
   "cell_type": "markdown",
   "metadata": {},
   "source": [
    "6.บันทึกผลที่ได้จากการรันคำสั่งในข้อ 5"
   ]
  },
  {
   "cell_type": "markdown",
   "metadata": {},
   "source": [
    "This is some shape\n",
    "\n",
    "This is a circle\n",
    "\n",
    "This is a rectangle\n",
    "\n",
    "This is a triangle"
   ]
  },
  {
   "cell_type": "markdown",
   "metadata": {},
   "source": [
    "7.อธิบายสิ่งที่พบในการทดลอง"
   ]
  },
  {
   "cell_type": "markdown",
   "metadata": {},
   "source": [
    "โค้ดทำงานได้ปกติแต่ไม่มีการสืบทอด"
   ]
  }
 ],
 "metadata": {
  "kernelspec": {
   "display_name": ".NET (C#)",
   "language": "C#",
   "name": ".net-csharp"
  },
  "polyglot_notebook": {
   "kernelInfo": {
    "defaultKernelName": "csharp",
    "items": [
     {
      "aliases": [],
      "languageName": "csharp",
      "name": "csharp"
     }
    ]
   }
  }
 },
 "nbformat": 4,
 "nbformat_minor": 2
}
